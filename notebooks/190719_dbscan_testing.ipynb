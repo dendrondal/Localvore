{
 "cells": [
  {
   "cell_type": "code",
   "execution_count": null,
   "metadata": {
    "collapsed": true,
    "pycharm": {
     "is_executing": true
    }
   },
   "outputs": [],
   "source": [
    "from sklearn.cluster import DBSCAN\n",
    "from src.clustering import create_samples\n",
    "\n",
    "def dbscan(epsilon=0.5):\n",
    "    names, X = [], []\n",
    "    collection_dict = create_samples('recipe1M', 'tennessee')\n",
    "    names.append(collection_dict.keys())\n",
    "    X.append(collection_dict.values())\n",
    "    neigh = DBSCAN(eps=epsilon, n_jobs=-1)\n",
    "    neigh.fit(X)\n",
    "    indices = neigh.core_sample_indices_\n",
    "    print(f'No. of clusters: {len(neigh.labels_)}')\n",
    "    for i in range(5):\n",
    "        index = next(indices)\n",
    "        print(names(index))\n",
    "        \n",
    "dbscan()"
   ]
  },
  {
   "cell_type": "code",
   "execution_count": null,
   "outputs": [],
   "source": [
    "                                                                                                                                                                                                                                                                                                                                                                                                                                                                                                      \n"
   ],
   "metadata": {
    "collapsed": false,
    "pycharm": {
     "name": "#%%\n"
    }
   }
  }
 ],
 "metadata": {
  "language_info": {
   "codemirror_mode": {
    "name": "ipython",
    "version": 2
   },
   "file_extension": ".py",
   "mimetype": "text/x-python",
   "name": "python",
   "nbconvert_exporter": "python",
   "pygments_lexer": "ipython2",
   "version": "2.7.6"
  },
  "kernelspec": {
   "name": "python3",
   "language": "python",
   "display_name": "Python 3"
  },
  "pycharm": {
   "stem_cell": {
    "cell_type": "raw",
    "source": [],
    "metadata": {
     "collapsed": false
    }
   }
  }
 },
 "nbformat": 4,
 "nbformat_minor": 0
}